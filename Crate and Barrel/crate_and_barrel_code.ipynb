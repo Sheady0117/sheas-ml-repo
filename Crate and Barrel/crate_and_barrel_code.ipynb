{
  "metadata": {
    "kernelspec": {
      "language": "python",
      "display_name": "Python 3",
      "name": "python3"
    },
    "language_info": {
      "name": "python",
      "version": "3.7.12",
      "mimetype": "text/x-python",
      "codemirror_mode": {
        "name": "ipython",
        "version": 3
      },
      "pygments_lexer": "ipython3",
      "nbconvert_exporter": "python",
      "file_extension": ".py"
    },
    "colab": {
      "provenance": []
    }
  },
  "nbformat_minor": 0,
  "nbformat": 4,
  "cells": [
    {
      "cell_type": "markdown",
      "source": [
        "## Explaination \n",
        "\n",
        "I decided to use the XGBoost model with grid search to try and achieve the best possible accuracy as on average XGBoost has yeilded more accurate results than CLF or KNN in my experience. Due to the nature of the dataset I omitted one-hot encoding the features as it would be redundant. \n",
        "\n",
        "\n",
        "I opted to utalize the parameters max_depth: [2,4,8], n_estimators: [100, 200],\n",
        " colsample_bytree: [0.5, 1.0], because they were parameters that I had used before and decided to try my luck with them in this case. I'm sure that there is room for improvement in my choices however. I would have utalized a more varied set of hyper parameters, however when I attempted to do that was running for well over an hour and I didn't want the runtime to close due to inactivity.\n",
        "\n",
        "The greatest challange that I had was with manipulating the labels. I had to shift them to a numeric form in range 0-8 to be used in the model. Doing this then presented an issue when printing to the .csv due to incorrect formatting. My method to rectify this was to save the predictions to a dataframe, reverse the numeric shift that I did initally, and then one-hot encode the resulting dataframe. This allowed me to format the data as per the submission guidelines.  \n",
        "\n",
        "The score that I recieved from kaggle was 5.998 for the public score and 5.949 for the private score. I am unsure as to how these scores are determined however a trend that I noticed was the lower the better, and my score was similar to those in the high 2000-3000 placement range. \n"
      ],
      "metadata": {
        "id": "SH-8IXx3wWUm"
      }
    },
    {
      "cell_type": "markdown",
      "source": [
        "# XGBoost with Grid Search"
      ],
      "metadata": {
        "id": "E3gEVkrUwXXr"
      }
    },
    {
      "cell_type": "code",
      "source": [
        "import numpy as np \n",
        "import pandas as pd\n",
        "import os\n",
        "import sklearn"
      ],
      "metadata": {
        "_uuid": "8f2839f25d086af736a60e9eeb907d3b93b6e0e5",
        "_cell_guid": "b1076dfc-b9ad-4769-8c92-a6c4dae69d19",
        "execution": {
          "iopub.status.busy": "2022-12-04T05:40:23.401674Z",
          "iopub.execute_input": "2022-12-04T05:40:23.402561Z",
          "iopub.status.idle": "2022-12-04T05:40:23.407756Z",
          "shell.execute_reply.started": "2022-12-04T05:40:23.402524Z",
          "shell.execute_reply": "2022-12-04T05:40:23.406567Z"
        },
        "trusted": true,
        "id": "RUpcsUHmvqVg"
      },
      "execution_count": null,
      "outputs": []
    },
    {
      "cell_type": "markdown",
      "source": [
        "### Parsing and Preprocessing"
      ],
      "metadata": {
        "id": "aI2ZuXp1yJxG"
      }
    },
    {
      "cell_type": "code",
      "source": [
        "train_data = pd.read_csv('/kaggle/input/crate-and-barrel/train.csv')\n",
        "test_data = pd.read_csv('/kaggle/input/crate-and-barrel/test.csv')\n",
        "\n",
        "train_data = train_data.set_index('id')\n",
        "test_data_col = test_data\n",
        "test_data = test_data.set_index('id')\n",
        "train_labels = train_data['target'] \n",
        "train_features = train_data.drop('target', axis =1)\n",
        "\n",
        "train_features.head()"
      ],
      "metadata": {
        "execution": {
          "iopub.status.busy": "2022-12-04T05:40:24.876410Z",
          "iopub.execute_input": "2022-12-04T05:40:24.877121Z",
          "iopub.status.idle": "2022-12-04T05:40:26.144686Z",
          "shell.execute_reply.started": "2022-12-04T05:40:24.877075Z",
          "shell.execute_reply": "2022-12-04T05:40:26.143700Z"
        },
        "trusted": true,
        "id": "uDK14W0_vqVk",
        "outputId": "31fbddd5-a3de-406a-f09f-8b65ba7c2efb"
      },
      "execution_count": null,
      "outputs": [
        {
          "execution_count": 14,
          "output_type": "execute_result",
          "data": {
            "text/plain": "    feat_1  feat_2  feat_3  feat_4  feat_5  feat_6  feat_7  feat_8  feat_9  \\\nid                                                                           \n1        1       0       0       0       0       0       0       0       0   \n2        0       0       0       0       0       0       0       1       0   \n3        0       0       0       0       0       0       0       1       0   \n4        1       0       0       1       6       1       5       0       0   \n5        0       0       0       0       0       0       0       0       0   \n\n    feat_10  ...  feat_84  feat_85  feat_86  feat_87  feat_88  feat_89  \\\nid           ...                                                         \n1         0  ...        0        1        0        0        0        0   \n2         0  ...        0        0        0        0        0        0   \n3         0  ...        0        0        0        0        0        0   \n4         1  ...       22        0        1        2        0        0   \n5         0  ...        0        1        0        0        0        0   \n\n    feat_90  feat_91  feat_92  feat_93  \nid                                      \n1         0        0        0        0  \n2         0        0        0        0  \n3         0        0        0        0  \n4         0        0        0        0  \n5         1        0        0        0  \n\n[5 rows x 93 columns]",
            "text/html": "<div>\n<style scoped>\n    .dataframe tbody tr th:only-of-type {\n        vertical-align: middle;\n    }\n\n    .dataframe tbody tr th {\n        vertical-align: top;\n    }\n\n    .dataframe thead th {\n        text-align: right;\n    }\n</style>\n<table border=\"1\" class=\"dataframe\">\n  <thead>\n    <tr style=\"text-align: right;\">\n      <th></th>\n      <th>feat_1</th>\n      <th>feat_2</th>\n      <th>feat_3</th>\n      <th>feat_4</th>\n      <th>feat_5</th>\n      <th>feat_6</th>\n      <th>feat_7</th>\n      <th>feat_8</th>\n      <th>feat_9</th>\n      <th>feat_10</th>\n      <th>...</th>\n      <th>feat_84</th>\n      <th>feat_85</th>\n      <th>feat_86</th>\n      <th>feat_87</th>\n      <th>feat_88</th>\n      <th>feat_89</th>\n      <th>feat_90</th>\n      <th>feat_91</th>\n      <th>feat_92</th>\n      <th>feat_93</th>\n    </tr>\n    <tr>\n      <th>id</th>\n      <th></th>\n      <th></th>\n      <th></th>\n      <th></th>\n      <th></th>\n      <th></th>\n      <th></th>\n      <th></th>\n      <th></th>\n      <th></th>\n      <th></th>\n      <th></th>\n      <th></th>\n      <th></th>\n      <th></th>\n      <th></th>\n      <th></th>\n      <th></th>\n      <th></th>\n      <th></th>\n      <th></th>\n    </tr>\n  </thead>\n  <tbody>\n    <tr>\n      <th>1</th>\n      <td>1</td>\n      <td>0</td>\n      <td>0</td>\n      <td>0</td>\n      <td>0</td>\n      <td>0</td>\n      <td>0</td>\n      <td>0</td>\n      <td>0</td>\n      <td>0</td>\n      <td>...</td>\n      <td>0</td>\n      <td>1</td>\n      <td>0</td>\n      <td>0</td>\n      <td>0</td>\n      <td>0</td>\n      <td>0</td>\n      <td>0</td>\n      <td>0</td>\n      <td>0</td>\n    </tr>\n    <tr>\n      <th>2</th>\n      <td>0</td>\n      <td>0</td>\n      <td>0</td>\n      <td>0</td>\n      <td>0</td>\n      <td>0</td>\n      <td>0</td>\n      <td>1</td>\n      <td>0</td>\n      <td>0</td>\n      <td>...</td>\n      <td>0</td>\n      <td>0</td>\n      <td>0</td>\n      <td>0</td>\n      <td>0</td>\n      <td>0</td>\n      <td>0</td>\n      <td>0</td>\n      <td>0</td>\n      <td>0</td>\n    </tr>\n    <tr>\n      <th>3</th>\n      <td>0</td>\n      <td>0</td>\n      <td>0</td>\n      <td>0</td>\n      <td>0</td>\n      <td>0</td>\n      <td>0</td>\n      <td>1</td>\n      <td>0</td>\n      <td>0</td>\n      <td>...</td>\n      <td>0</td>\n      <td>0</td>\n      <td>0</td>\n      <td>0</td>\n      <td>0</td>\n      <td>0</td>\n      <td>0</td>\n      <td>0</td>\n      <td>0</td>\n      <td>0</td>\n    </tr>\n    <tr>\n      <th>4</th>\n      <td>1</td>\n      <td>0</td>\n      <td>0</td>\n      <td>1</td>\n      <td>6</td>\n      <td>1</td>\n      <td>5</td>\n      <td>0</td>\n      <td>0</td>\n      <td>1</td>\n      <td>...</td>\n      <td>22</td>\n      <td>0</td>\n      <td>1</td>\n      <td>2</td>\n      <td>0</td>\n      <td>0</td>\n      <td>0</td>\n      <td>0</td>\n      <td>0</td>\n      <td>0</td>\n    </tr>\n    <tr>\n      <th>5</th>\n      <td>0</td>\n      <td>0</td>\n      <td>0</td>\n      <td>0</td>\n      <td>0</td>\n      <td>0</td>\n      <td>0</td>\n      <td>0</td>\n      <td>0</td>\n      <td>0</td>\n      <td>...</td>\n      <td>0</td>\n      <td>1</td>\n      <td>0</td>\n      <td>0</td>\n      <td>0</td>\n      <td>0</td>\n      <td>1</td>\n      <td>0</td>\n      <td>0</td>\n      <td>0</td>\n    </tr>\n  </tbody>\n</table>\n<p>5 rows × 93 columns</p>\n</div>"
          },
          "metadata": {}
        }
      ]
    },
    {
      "cell_type": "code",
      "source": [
        "print(train_labels.unique())\n",
        "\n",
        "train_labels = train_labels.replace(to_replace=\"Class_1\", value=0)\n",
        "train_labels = train_labels.replace(to_replace=\"Class_2\", value=1)\n",
        "train_labels = train_labels.replace(to_replace=\"Class_3\", value=2)\n",
        "train_labels = train_labels.replace(to_replace=\"Class_4\", value=3)\n",
        "train_labels = train_labels.replace(to_replace=\"Class_5\", value=4)\n",
        "train_labels = train_labels.replace(to_replace=\"Class_6\", value=5)\n",
        "train_labels = train_labels.replace(to_replace=\"Class_7\", value=6)\n",
        "train_labels = train_labels.replace(to_replace=\"Class_8\", value=7)\n",
        "train_labels = train_labels.replace(to_replace=\"Class_9\", value=8)\n",
        "\n",
        "\n",
        "print(train_labels.unique())"
      ],
      "metadata": {
        "execution": {
          "iopub.status.busy": "2022-12-04T05:40:28.186171Z",
          "iopub.execute_input": "2022-12-04T05:40:28.186692Z",
          "iopub.status.idle": "2022-12-04T05:40:28.277961Z",
          "shell.execute_reply.started": "2022-12-04T05:40:28.186660Z",
          "shell.execute_reply": "2022-12-04T05:40:28.276949Z"
        },
        "trusted": true,
        "id": "lLwPcYwovqVl",
        "outputId": "8ea6ee5b-2747-45ab-f3a2-41edff79b798"
      },
      "execution_count": null,
      "outputs": [
        {
          "name": "stdout",
          "text": "['Class_1' 'Class_2' 'Class_3' 'Class_4' 'Class_5' 'Class_6' 'Class_7'\n 'Class_8' 'Class_9']\n[0 1 2 3 4 5 6 7 8]\n",
          "output_type": "stream"
        }
      ]
    },
    {
      "cell_type": "markdown",
      "source": [
        "### Declare, Fit and Test Model"
      ],
      "metadata": {
        "id": "STajUmNlyXLL"
      }
    },
    {
      "cell_type": "code",
      "source": [
        "from xgboost import XGBClassifier\n",
        "model1 = XGBClassifier(tree_method = 'gpu_hist', predictor = 'gpu_predictor')"
      ],
      "metadata": {
        "execution": {
          "iopub.status.busy": "2022-12-04T05:40:30.570713Z",
          "iopub.execute_input": "2022-12-04T05:40:30.571600Z",
          "iopub.status.idle": "2022-12-04T05:40:30.577918Z",
          "shell.execute_reply.started": "2022-12-04T05:40:30.571564Z",
          "shell.execute_reply": "2022-12-04T05:40:30.576873Z"
        },
        "trusted": true,
        "id": "yka_cdwTvqVn"
      },
      "execution_count": null,
      "outputs": []
    },
    {
      "cell_type": "code",
      "source": [
        "from sklearn.model_selection import GridSearchCV\n",
        "param_grid = [\n",
        "{'max_depth': [2,4,8],\n",
        "     'n_estimators': [100, 200],\n",
        "      'colsample_bytree': [0.5, 1.0]}\n",
        "]"
      ],
      "metadata": {
        "execution": {
          "iopub.status.busy": "2022-12-04T05:41:11.102002Z",
          "iopub.execute_input": "2022-12-04T05:41:11.102356Z",
          "iopub.status.idle": "2022-12-04T05:41:11.107731Z",
          "shell.execute_reply.started": "2022-12-04T05:41:11.102328Z",
          "shell.execute_reply": "2022-12-04T05:41:11.106650Z"
        },
        "trusted": true,
        "id": "kbNH84P5vqVo"
      },
      "execution_count": null,
      "outputs": []
    },
    {
      "cell_type": "code",
      "source": [
        "grid_search= GridSearchCV(model1, param_grid, verbose=4, n_jobs=-1, cv=5)\n"
      ],
      "metadata": {
        "execution": {
          "iopub.status.busy": "2022-12-04T05:41:14.006331Z",
          "iopub.execute_input": "2022-12-04T05:41:14.006700Z",
          "iopub.status.idle": "2022-12-04T05:41:14.011762Z",
          "shell.execute_reply.started": "2022-12-04T05:41:14.006669Z",
          "shell.execute_reply": "2022-12-04T05:41:14.010668Z"
        },
        "trusted": true,
        "id": "9HBN2-p1vqVo"
      },
      "execution_count": null,
      "outputs": []
    },
    {
      "cell_type": "code",
      "source": [
        "result = grid_search.fit(train_features, train_labels)"
      ],
      "metadata": {
        "execution": {
          "iopub.status.busy": "2022-12-04T05:41:16.530894Z",
          "iopub.execute_input": "2022-12-04T05:41:16.531800Z",
          "iopub.status.idle": "2022-12-04T05:48:16.583884Z",
          "shell.execute_reply.started": "2022-12-04T05:41:16.531740Z",
          "shell.execute_reply": "2022-12-04T05:48:16.582750Z"
        },
        "trusted": true,
        "id": "kWiTiH3avqVp",
        "outputId": "9c5e31b5-6cf3-4e0f-b284-7ebe2817d743"
      },
      "execution_count": null,
      "outputs": [
        {
          "name": "stdout",
          "text": "Fitting 5 folds for each of 12 candidates, totalling 60 fits\n[CV 2/5] END colsample_bytree=0.5, max_depth=2, n_estimators=100;, score=0.774 total time=   5.1s\n[CV 4/5] END colsample_bytree=0.5, max_depth=2, n_estimators=100;, score=0.782 total time=   2.9s\n[CV 1/5] END colsample_bytree=0.5, max_depth=2, n_estimators=200;, score=0.784 total time=   4.3s\n[CV 3/5] END colsample_bytree=0.5, max_depth=2, n_estimators=200;, score=0.791 total time=   4.0s\n[CV 5/5] END colsample_bytree=0.5, max_depth=2, n_estimators=200;, score=0.788 total time=   4.2s\n[CV 2/5] END colsample_bytree=0.5, max_depth=4, n_estimators=100;, score=0.798 total time=   4.0s\n[CV 4/5] END colsample_bytree=0.5, max_depth=4, n_estimators=100;, score=0.806 total time=   4.3s\n[CV 1/5] END colsample_bytree=0.5, max_depth=4, n_estimators=200;, score=0.805 total time=   8.4s\n[CV 3/5] END colsample_bytree=0.5, max_depth=4, n_estimators=200;, score=0.807 total time=   8.5s\n[CV 5/5] END colsample_bytree=0.5, max_depth=4, n_estimators=200;, score=0.809 total time=   8.6s\n[CV 2/5] END colsample_bytree=0.5, max_depth=8, n_estimators=100;, score=0.816 total time=  20.4s\n[CV 4/5] END colsample_bytree=0.5, max_depth=8, n_estimators=100;, score=0.821 total time=  20.4s\n[CV 1/5] END colsample_bytree=0.5, max_depth=8, n_estimators=200;, score=0.819 total time=  37.1s\n[CV 3/5] END colsample_bytree=0.5, max_depth=8, n_estimators=200;, score=0.822 total time=  37.4s\n[CV 5/5] END colsample_bytree=0.5, max_depth=8, n_estimators=200;, score=0.824 total time=  30.1s\n[CV 2/5] END colsample_bytree=1.0, max_depth=2, n_estimators=200;, score=0.783 total time=   4.5s\n[CV 4/5] END colsample_bytree=1.0, max_depth=2, n_estimators=200;, score=0.796 total time=   4.4s\n[CV 1/5] END colsample_bytree=1.0, max_depth=4, n_estimators=100;, score=0.796 total time=   4.6s\n[CV 3/5] END colsample_bytree=1.0, max_depth=4, n_estimators=100;, score=0.803 total time=   5.1s\n[CV 5/5] END colsample_bytree=1.0, max_depth=4, n_estimators=100;, score=0.803 total time=   4.9s\n[CV 2/5] END colsample_bytree=1.0, max_depth=4, n_estimators=200;, score=0.807 total time=   9.9s\n[CV 4/5] END colsample_bytree=1.0, max_depth=4, n_estimators=200;, score=0.816 total time=   9.7s\n[CV 1/5] END colsample_bytree=1.0, max_depth=8, n_estimators=100;, score=0.815 total time=  22.1s\n[CV 3/5] END colsample_bytree=1.0, max_depth=8, n_estimators=100;, score=0.813 total time=  23.0s\n[CV 5/5] END colsample_bytree=1.0, max_depth=8, n_estimators=100;, score=0.819 total time=  22.8s\n[CV 2/5] END colsample_bytree=1.0, max_depth=8, n_estimators=200;, score=0.822 total time=  41.5s\n[CV 4/5] END colsample_bytree=1.0, max_depth=8, n_estimators=200;, score=0.826 total time=  42.3s\n[CV 1/5] END colsample_bytree=0.5, max_depth=2, n_estimators=100;, score=0.774 total time=   5.0s\n[CV 3/5] END colsample_bytree=0.5, max_depth=2, n_estimators=100;, score=0.778 total time=   2.9s\n[CV 5/5] END colsample_bytree=0.5, max_depth=2, n_estimators=100;, score=0.778 total time=   2.8s\n[CV 2/5] END colsample_bytree=0.5, max_depth=2, n_estimators=200;, score=0.784 total time=   4.1s\n[CV 4/5] END colsample_bytree=0.5, max_depth=2, n_estimators=200;, score=0.794 total time=   4.2s\n[CV 1/5] END colsample_bytree=0.5, max_depth=4, n_estimators=100;, score=0.796 total time=   3.9s\n[CV 3/5] END colsample_bytree=0.5, max_depth=4, n_estimators=100;, score=0.802 total time=   4.0s\n[CV 5/5] END colsample_bytree=0.5, max_depth=4, n_estimators=100;, score=0.801 total time=   4.2s\n[CV 2/5] END colsample_bytree=0.5, max_depth=4, n_estimators=200;, score=0.806 total time=   8.2s\n[CV 4/5] END colsample_bytree=0.5, max_depth=4, n_estimators=200;, score=0.814 total time=   8.8s\n[CV 1/5] END colsample_bytree=0.5, max_depth=8, n_estimators=100;, score=0.816 total time=  19.2s\n[CV 3/5] END colsample_bytree=0.5, max_depth=8, n_estimators=100;, score=0.816 total time=  20.0s\n[CV 5/5] END colsample_bytree=0.5, max_depth=8, n_estimators=100;, score=0.820 total time=  21.1s\n[CV 2/5] END colsample_bytree=0.5, max_depth=8, n_estimators=200;, score=0.822 total time=  36.9s\n[CV 4/5] END colsample_bytree=0.5, max_depth=8, n_estimators=200;, score=0.828 total time=  36.8s\n[CV 1/5] END colsample_bytree=1.0, max_depth=2, n_estimators=100;, score=0.776 total time=   3.4s\n[CV 2/5] END colsample_bytree=1.0, max_depth=2, n_estimators=100;, score=0.774 total time=   3.3s\n[CV 3/5] END colsample_bytree=1.0, max_depth=2, n_estimators=100;, score=0.779 total time=   3.5s\n[CV 4/5] END colsample_bytree=1.0, max_depth=2, n_estimators=100;, score=0.786 total time=   3.3s\n[CV 5/5] END colsample_bytree=1.0, max_depth=2, n_estimators=100;, score=0.778 total time=   3.4s\n[CV 1/5] END colsample_bytree=1.0, max_depth=2, n_estimators=200;, score=0.784 total time=   4.7s\n[CV 3/5] END colsample_bytree=1.0, max_depth=2, n_estimators=200;, score=0.790 total time=   4.4s\n[CV 5/5] END colsample_bytree=1.0, max_depth=2, n_estimators=200;, score=0.790 total time=   4.8s\n[CV 2/5] END colsample_bytree=1.0, max_depth=4, n_estimators=100;, score=0.799 total time=   5.1s\n[CV 4/5] END colsample_bytree=1.0, max_depth=4, n_estimators=100;, score=0.806 total time=   4.9s\n[CV 1/5] END colsample_bytree=1.0, max_depth=4, n_estimators=200;, score=0.805 total time=   9.7s\n[CV 3/5] END colsample_bytree=1.0, max_depth=4, n_estimators=200;, score=0.809 total time=   9.7s\n[CV 5/5] END colsample_bytree=1.0, max_depth=4, n_estimators=200;, score=0.810 total time=  11.8s\n[CV 2/5] END colsample_bytree=1.0, max_depth=8, n_estimators=100;, score=0.817 total time=  22.6s\n[CV 4/5] END colsample_bytree=1.0, max_depth=8, n_estimators=100;, score=0.822 total time=  22.8s\n[CV 1/5] END colsample_bytree=1.0, max_depth=8, n_estimators=200;, score=0.819 total time=  41.1s\n[CV 3/5] END colsample_bytree=1.0, max_depth=8, n_estimators=200;, score=0.818 total time=  40.4s\n[CV 5/5] END colsample_bytree=1.0, max_depth=8, n_estimators=200;, score=0.823 total time=  22.7s\n",
          "output_type": "stream"
        }
      ]
    },
    {
      "cell_type": "code",
      "source": [
        "grid_search.best_params_"
      ],
      "metadata": {
        "execution": {
          "iopub.status.busy": "2022-12-04T05:55:38.379815Z",
          "iopub.execute_input": "2022-12-04T05:55:38.380521Z",
          "iopub.status.idle": "2022-12-04T05:55:38.388408Z",
          "shell.execute_reply.started": "2022-12-04T05:55:38.380475Z",
          "shell.execute_reply": "2022-12-04T05:55:38.387470Z"
        },
        "trusted": true,
        "id": "F02IjnIYvqVq",
        "outputId": "64a68c2b-3a35-4540-da4d-3f1c451ff64d"
      },
      "execution_count": null,
      "outputs": [
        {
          "execution_count": 21,
          "output_type": "execute_result",
          "data": {
            "text/plain": "{'colsample_bytree': 0.5, 'max_depth': 8, 'n_estimators': 200}"
          },
          "metadata": {}
        }
      ]
    },
    {
      "cell_type": "code",
      "source": [
        "pred = grid_search.best_estimator_.predict(test_data)"
      ],
      "metadata": {
        "execution": {
          "iopub.status.busy": "2022-12-04T05:55:52.260843Z",
          "iopub.execute_input": "2022-12-04T05:55:52.261222Z",
          "iopub.status.idle": "2022-12-04T05:55:53.041518Z",
          "shell.execute_reply.started": "2022-12-04T05:55:52.261191Z",
          "shell.execute_reply": "2022-12-04T05:55:53.040333Z"
        },
        "trusted": true,
        "id": "9AqkfZhjvqVr"
      },
      "execution_count": null,
      "outputs": []
    },
    {
      "cell_type": "markdown",
      "source": [
        "### Postprocessing of Prediction Data"
      ],
      "metadata": {
        "id": "tOoT9vpCx-gU"
      }
    },
    {
      "cell_type": "code",
      "source": [
        "#Formatting data for .csv\n",
        "submission = pd.DataFrame({'id':test_data_col['id'],'pred':pred})\n",
        "\n",
        "#reverse numeric encoding\n",
        "submission['pred'] = submission['pred'].replace(to_replace=0, value=\"Class_1\")\n",
        "submission['pred'] = submission['pred'].replace(to_replace=1, value=\"Class_2\")\n",
        "submission['pred'] = submission['pred'].replace(to_replace=2, value=\"Class_3\")\n",
        "submission['pred'] = submission['pred'].replace(to_replace=3, value=\"Class_4\")\n",
        "submission['pred'] = submission['pred'].replace(to_replace=4, value=\"Class_5\")\n",
        "submission['pred'] = submission['pred'].replace(to_replace=5, value=\"Class_6\")\n",
        "submission['pred'] = submission['pred'].replace(to_replace=6, value=\"Class_7\")\n",
        "submission['pred'] = submission['pred'].replace(to_replace=7, value=\"Class_8\")\n",
        "submission['pred'] = submission['pred'].replace(to_replace=8, value=\"Class_9\")\n",
        "\n",
        "\n",
        "#create columns for each classification \n",
        "\n",
        "one_hot = pd.get_dummies(submission['pred'])\n",
        "submission = submission.drop('pred', axis=1)\n",
        "submission = submission.join(one_hot)\n",
        "\n",
        "\n",
        "submission"
      ],
      "metadata": {
        "execution": {
          "iopub.status.busy": "2022-12-04T05:55:58.124465Z",
          "iopub.execute_input": "2022-12-04T05:55:58.124996Z",
          "iopub.status.idle": "2022-12-04T05:55:58.223620Z",
          "shell.execute_reply.started": "2022-12-04T05:55:58.124962Z",
          "shell.execute_reply": "2022-12-04T05:55:58.222565Z"
        },
        "trusted": true,
        "id": "XKR0CiaSvqVs",
        "outputId": "4a6fbd5c-56c8-4339-e056-521585b3708c"
      },
      "execution_count": null,
      "outputs": [
        {
          "execution_count": 24,
          "output_type": "execute_result",
          "data": {
            "text/plain": "            id  Class_1  Class_2  Class_3  Class_4  Class_5  Class_6  Class_7  \\\n0            1        0        0        0        1        0        0        0   \n1            2        0        0        0        0        0        0        0   \n2            3        0        0        0        0        0        1        0   \n3            4        0        1        0        0        0        0        0   \n4            5        0        0        0        0        0        0        0   \n...        ...      ...      ...      ...      ...      ...      ...      ...   \n144363  144364        1        0        0        0        0        0        0   \n144364  144365        0        0        1        0        0        0        0   \n144365  144366        0        1        0        0        0        0        0   \n144366  144367        0        0        0        1        0        0        0   \n144367  144368        0        0        1        0        0        0        0   \n\n        Class_8  Class_9  \n0             0        0  \n1             1        0  \n2             0        0  \n3             0        0  \n4             0        1  \n...         ...      ...  \n144363        0        0  \n144364        0        0  \n144365        0        0  \n144366        0        0  \n144367        0        0  \n\n[144368 rows x 10 columns]",
            "text/html": "<div>\n<style scoped>\n    .dataframe tbody tr th:only-of-type {\n        vertical-align: middle;\n    }\n\n    .dataframe tbody tr th {\n        vertical-align: top;\n    }\n\n    .dataframe thead th {\n        text-align: right;\n    }\n</style>\n<table border=\"1\" class=\"dataframe\">\n  <thead>\n    <tr style=\"text-align: right;\">\n      <th></th>\n      <th>id</th>\n      <th>Class_1</th>\n      <th>Class_2</th>\n      <th>Class_3</th>\n      <th>Class_4</th>\n      <th>Class_5</th>\n      <th>Class_6</th>\n      <th>Class_7</th>\n      <th>Class_8</th>\n      <th>Class_9</th>\n    </tr>\n  </thead>\n  <tbody>\n    <tr>\n      <th>0</th>\n      <td>1</td>\n      <td>0</td>\n      <td>0</td>\n      <td>0</td>\n      <td>1</td>\n      <td>0</td>\n      <td>0</td>\n      <td>0</td>\n      <td>0</td>\n      <td>0</td>\n    </tr>\n    <tr>\n      <th>1</th>\n      <td>2</td>\n      <td>0</td>\n      <td>0</td>\n      <td>0</td>\n      <td>0</td>\n      <td>0</td>\n      <td>0</td>\n      <td>0</td>\n      <td>1</td>\n      <td>0</td>\n    </tr>\n    <tr>\n      <th>2</th>\n      <td>3</td>\n      <td>0</td>\n      <td>0</td>\n      <td>0</td>\n      <td>0</td>\n      <td>0</td>\n      <td>1</td>\n      <td>0</td>\n      <td>0</td>\n      <td>0</td>\n    </tr>\n    <tr>\n      <th>3</th>\n      <td>4</td>\n      <td>0</td>\n      <td>1</td>\n      <td>0</td>\n      <td>0</td>\n      <td>0</td>\n      <td>0</td>\n      <td>0</td>\n      <td>0</td>\n      <td>0</td>\n    </tr>\n    <tr>\n      <th>4</th>\n      <td>5</td>\n      <td>0</td>\n      <td>0</td>\n      <td>0</td>\n      <td>0</td>\n      <td>0</td>\n      <td>0</td>\n      <td>0</td>\n      <td>0</td>\n      <td>1</td>\n    </tr>\n    <tr>\n      <th>...</th>\n      <td>...</td>\n      <td>...</td>\n      <td>...</td>\n      <td>...</td>\n      <td>...</td>\n      <td>...</td>\n      <td>...</td>\n      <td>...</td>\n      <td>...</td>\n      <td>...</td>\n    </tr>\n    <tr>\n      <th>144363</th>\n      <td>144364</td>\n      <td>1</td>\n      <td>0</td>\n      <td>0</td>\n      <td>0</td>\n      <td>0</td>\n      <td>0</td>\n      <td>0</td>\n      <td>0</td>\n      <td>0</td>\n    </tr>\n    <tr>\n      <th>144364</th>\n      <td>144365</td>\n      <td>0</td>\n      <td>0</td>\n      <td>1</td>\n      <td>0</td>\n      <td>0</td>\n      <td>0</td>\n      <td>0</td>\n      <td>0</td>\n      <td>0</td>\n    </tr>\n    <tr>\n      <th>144365</th>\n      <td>144366</td>\n      <td>0</td>\n      <td>1</td>\n      <td>0</td>\n      <td>0</td>\n      <td>0</td>\n      <td>0</td>\n      <td>0</td>\n      <td>0</td>\n      <td>0</td>\n    </tr>\n    <tr>\n      <th>144366</th>\n      <td>144367</td>\n      <td>0</td>\n      <td>0</td>\n      <td>0</td>\n      <td>1</td>\n      <td>0</td>\n      <td>0</td>\n      <td>0</td>\n      <td>0</td>\n      <td>0</td>\n    </tr>\n    <tr>\n      <th>144367</th>\n      <td>144368</td>\n      <td>0</td>\n      <td>0</td>\n      <td>1</td>\n      <td>0</td>\n      <td>0</td>\n      <td>0</td>\n      <td>0</td>\n      <td>0</td>\n      <td>0</td>\n    </tr>\n  </tbody>\n</table>\n<p>144368 rows × 10 columns</p>\n</div>"
          },
          "metadata": {}
        }
      ]
    },
    {
      "cell_type": "code",
      "source": [
        "submission.to_csv('XGB_Grid_submission.csv', index=False)"
      ],
      "metadata": {
        "execution": {
          "iopub.status.busy": "2022-12-04T05:56:16.537218Z",
          "iopub.execute_input": "2022-12-04T05:56:16.537589Z",
          "iopub.status.idle": "2022-12-04T05:56:16.822902Z",
          "shell.execute_reply.started": "2022-12-04T05:56:16.537556Z",
          "shell.execute_reply": "2022-12-04T05:56:16.821801Z"
        },
        "trusted": true,
        "id": "wNso1GZgvqVs"
      },
      "execution_count": null,
      "outputs": []
    }
  ]
}